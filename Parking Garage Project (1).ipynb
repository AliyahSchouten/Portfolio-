{
 "cells": [
  {
   "cell_type": "markdown",
   "metadata": {},
   "source": [
    "# Parking Garage Project\n",
    "\n",
    "Your assignment for today is to create a parking garage class to get more familiar with Object Oriented Programming(OOP). \n",
    "\n",
    "Your parking gargage class should have the following methods:\n",
    "- takeTicket\n",
    "   - This should decrease the amount of tickets available by 1\n",
    "   - This should decrease the amount of parkingSpaces available by 1\n",
    "- payForParking\n",
    "   - Display an input that waits for an amount from the user and store it in a variable\n",
    "   - If the payment variable is not empty then ->  display a message to the user that their ticket has been paid and they have 15mins to leave\n",
    "   - This should update the \"currentTicket\" dictionary key \"paid\" to True\n",
    "- leaveGarage\n",
    "   - If the ticket has been paid, display a message of \"Thank You, have a nice day\"\n",
    "   - If the ticket has not been paid, display an input prompt for payment\n",
    "      - Once paid, display message \"Thank you, have a nice day!\"\n",
    "   - Update parkingSpaces list to increase by 1\n",
    "   - Update tickets list to increase by 1\n",
    "\n",
    "You will need a few attributes as well:\n",
    "- tickets -> list\n",
    "- parkingSpaces -> list\n",
    "- currentTicket -> dictionary"
   ]
  },
  {
   "cell_type": "code",
   "execution_count": 13,
   "metadata": {},
   "outputs": [
    {
     "name": "stdout",
     "output_type": "stream",
     "text": [
      "Your ticket number is 19\n",
      "Your ticket has been paid and you have 15mins to leave\n",
      "Thank you, have a nice day!\n",
      "Your ticket number is 19\n"
     ]
    }
   ],
   "source": [
    "# Your Code will go here\n",
    "\n",
    "\n",
    "class Parking_garage:\n",
    "    \n",
    "    def __init__(self,spaces,tickets,):\n",
    "        self.spaces=spaces\n",
    "        self.ticket=tickets \n",
    "        self.currenttic={}\n",
    "    def takeTicket(self):\n",
    "        self.spaces-=1\n",
    "        self.currenTicket={'Ticket{self.spaces}':'Unpaid'}\n",
    "        print(f'Your ticket number is {self.spaces}')\n",
    "        \n",
    "    def payForParking(self,ticket_number):\n",
    "        while True:\n",
    "            response=input('Enter Payment')\n",
    "            if len(response)!=0:\n",
    "                self.currenTicket[f'Ticket{ticket_number}']='Paid'\n",
    "                print('Your ticket has been paid and you have 15mins to leave')\n",
    "                break\n",
    "    def leaveGarage(self,ticket_number):\n",
    "        if self.currenTicket[f'Ticket{ticket_number}']=='Paid':\n",
    "            self.spaces+=1\n",
    "            print('Thank you, have a nice day!')\n",
    "        else: print('Please go back and pay')\n",
    "\n",
    "\n",
    "garage1=Parking_garage(20,20)\n",
    "garage1.takeTicket()\n",
    "garage1.payForParking(input(\"whats your ticket number\"))\n",
    "garage1.leaveGarage(input(\"whats your ticket number\"))\n",
    "garage1.takeTicket()\n",
    "            \n",
    "\n",
    "     \n",
    "\n",
    "\n",
    "\n",
    "\n",
    "\n",
    "            \n",
    "\n"
   ]
  }
 ],
 "metadata": {
  "kernelspec": {
   "display_name": "Python 3",
   "language": "python",
   "name": "python3"
  },
  "language_info": {
   "codemirror_mode": {
    "name": "ipython",
    "version": 3
   },
   "file_extension": ".py",
   "mimetype": "text/x-python",
   "name": "python",
   "nbconvert_exporter": "python",
   "pygments_lexer": "ipython3",
   "version": "3.11.3"
  }
 },
 "nbformat": 4,
 "nbformat_minor": 2
}
